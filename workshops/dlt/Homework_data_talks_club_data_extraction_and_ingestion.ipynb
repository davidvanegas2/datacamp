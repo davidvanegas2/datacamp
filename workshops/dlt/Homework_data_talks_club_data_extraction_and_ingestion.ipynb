{
 "nbformat": 4,
 "nbformat_minor": 0,
 "metadata": {
  "colab": {
   "provenance": []
  },
  "kernelspec": {
   "name": "python3",
   "display_name": "Python 3"
  },
  "language_info": {
   "name": "python"
  }
 },
 "cells": [
  {
   "cell_type": "markdown",
   "source": [
    "# **Homework**: Data talks club data engineering zoomcamp Data loading workshop\n",
    "\n",
    "Hello folks, let's practice what we learned - Loading data with the best practices of data engineering.\n",
    "\n",
    "Here are the exercises we will do\n",
    "\n",
    "\n"
   ],
   "metadata": {
    "id": "mrTFv5nPClXh"
   }
  },
  {
   "cell_type": "markdown",
   "source": [
    "# 1. Use a generator\n",
    "\n",
    "Remember the concept of generator? Let's practice using them to futher our understanding of how they work.\n",
    "\n",
    "Let's define a generator and then run it as practice.\n",
    "\n",
    "**Answer the following questions:**\n",
    "\n",
    "- **Question 1: What is the sum of the outputs of the generator for limit = 5?**\n",
    "- **Question 2: What is the 13th number yielded**\n",
    "\n",
    "I suggest practicing these questions without GPT as the purpose is to further your learning."
   ],
   "metadata": {
    "id": "wLF4iXf-NR7t"
   }
  },
  {
   "cell_type": "code",
   "source": [
    "def square_root_generator(limit):\n",
    "    n = 1\n",
    "    while n <= limit:\n",
    "        yield n ** 0.5\n",
    "        n += 1\n",
    "\n",
    "# Example usage:\n",
    "limit = 14\n",
    "generator = square_root_generator(limit)\n",
    "sum_val = 0\n",
    "\n",
    "for i, sqrt_value in enumerate(generator):\n",
    "    sum_val += sqrt_value\n",
    "    print(f'sum for {i + 1} =', sum_val)\n",
    "    print('--->', sqrt_value)\n"
   ],
   "metadata": {
    "colab": {
     "base_uri": "https://localhost:8080/"
    },
    "id": "wLng-bDJN4jf",
    "outputId": "ff23e3d0-f720-49bf-cfef-7c9776eed274"
   },
   "execution_count": null,
   "outputs": []
  },
  {
   "cell_type": "markdown",
   "source": [],
   "metadata": {
    "id": "xbe3q55zN43j"
   }
  },
  {
   "cell_type": "markdown",
   "source": [
    "# 2. Append a generator to a table with existing data\n",
    "\n",
    "\n",
    "Below you have 2 generators. You will be tasked to load them to duckdb and answer some questions from the data\n",
    "\n",
    "1. Load the first generator and calculate the sum of ages of all people. Make sure to only load it once.\n",
    "2. Append the second generator to the same table as the first.\n",
    "3. **After correctly appending the data, calculate the sum of all ages of people.**\n",
    "\n",
    "\n"
   ],
   "metadata": {
    "id": "vjWhILzGJMpK"
   }
  },
  {
   "cell_type": "code",
   "execution_count": null,
   "metadata": {
    "colab": {
     "base_uri": "https://localhost:8080/"
    },
    "id": "2MoaQcdLBEk6",
    "outputId": "68783f2d-2348-4372-8635-a289837b8fb7"
   },
   "outputs": [],
   "source": [
    "def people_1():\n",
    "    for i in range(1, 6):\n",
    "        yield {\"ID\": i, \"Name\": f\"Person_{i}\", \"Age\": 25 + i, \"City\": \"City_A\"}\n",
    "\n",
    "for person in people_1():\n",
    "    print(person)\n",
    "\n",
    "\n",
    "def people_2():\n",
    "    for i in range(3, 9):\n",
    "        yield {\"ID\": i, \"Name\": f\"Person_{i}\", \"Age\": 30 + i, \"City\": \"City_B\", \"Occupation\": f\"Job_{i}\"}\n",
    "\n",
    "\n",
    "for person in people_2():\n",
    "    print(person)\n"
   ]
  },
  {
   "cell_type": "code",
   "source": [
    "%%capture\n",
    "!pip install dlt[duckdb] # Install dlt with all the necessary DuckDB dependencies"
   ],
   "metadata": {
    "id": "nCFu_XTPau4j"
   },
   "execution_count": null,
   "outputs": []
  },
  {
   "cell_type": "code",
   "source": [
    "import dlt\n",
    "\n",
    "# define the connection to load to.\n",
    "# We now use duckdb, but you can switch to Bigquery later\n",
    "generators_pipeline = dlt.pipeline(destination='duckdb', dataset_name='generators')"
   ],
   "metadata": {
    "id": "0YoVmKEqalmX"
   },
   "execution_count": null,
   "outputs": []
  },
  {
   "cell_type": "code",
   "source": [
    "# we can load any generator to a table at the pipeline destnation as follows:\n",
    "info = generators_pipeline.run(people_1(),\n",
    "\t\t\t\t\t\t\t\t\t\ttable_name=\"people_1\",\n",
    "\t\t\t\t\t\t\t\t\t\twrite_disposition=\"replace\")\n",
    "\n",
    "# the outcome metadata is returned by the load and we can inspect it by printing it.\n",
    "print(info)"
   ],
   "metadata": {
    "colab": {
     "base_uri": "https://localhost:8080/"
    },
    "id": "bQk_EZgPb30G",
    "outputId": "60a99dd2-3472-434e-e3e0-f715ec32d6ef"
   },
   "execution_count": null,
   "outputs": []
  },
  {
   "cell_type": "code",
   "source": [
    "# show outcome\n",
    "\n",
    "import duckdb\n",
    "\n",
    "conn = duckdb.connect(f\"{generators_pipeline.pipeline_name}.duckdb\")\n",
    "\n",
    "# let's see the tables\n",
    "conn.sql(f\"SET search_path = '{generators_pipeline.dataset_name}'\")\n",
    "print('Loaded tables: ')\n",
    "display(conn.sql(\"show tables\"))\n",
    "\n",
    "# and the data\n",
    "\n",
    "print(\"\\n\\n\\n http_download table below:\")\n",
    "\n",
    "p_1 = conn.sql(\"SELECT * FROM people_1\").df()\n",
    "display(p_1)\n",
    "\n",
    "# As you can see, the same data was loaded in both cases."
   ],
   "metadata": {
    "colab": {
     "base_uri": "https://localhost:8080/",
     "height": 945
    },
    "id": "FDhd89MsdrZP",
    "outputId": "6ec3734e-4073-4977-e6e2-e9a7de69a87d"
   },
   "execution_count": null,
   "outputs": []
  },
  {
   "cell_type": "code",
   "source": [
    "p_1 = conn.sql(\"SELECT SUM(age) FROM people_1\").df()\n",
    "display(p_1)"
   ],
   "metadata": {
    "colab": {
     "base_uri": "https://localhost:8080/",
     "height": 81
    },
    "id": "J_8rY9q8eNpL",
    "outputId": "b1f2a740-441f-4f66-ee1a-a2f668e92946"
   },
   "execution_count": null,
   "outputs": []
  },
  {
   "cell_type": "markdown",
   "source": [],
   "metadata": {
    "id": "vtdTIm4fvQCN"
   }
  },
  {
   "cell_type": "markdown",
   "source": [
    "# 3. Merge a generator\n",
    "\n",
    "Re-use the generators from Exercise 2.\n",
    "\n",
    "A table's primary key needs to be created from the start, so load your data to a new table with primary key ID.\n",
    "\n",
    "Load your first generator first, and then load the second one with merge. Since they have overlapping IDs, some of the records from the first load should be replaced by the ones from the second load.\n",
    "\n",
    "After loading, you should have a total of 8 records, and ID 3 should have age 33.\n",
    "\n",
    "Question: **Calculate the sum of ages of all the people loaded as described above.**\n"
   ],
   "metadata": {
    "id": "pY4cFAWOSwN1"
   }
  },
  {
   "cell_type": "markdown",
   "source": [
    "# Solution: First make sure that the following modules are installed:"
   ],
   "metadata": {
    "id": "kKB2GTB9oVjr"
   }
  },
  {
   "cell_type": "code",
   "source": [
    "# define the connection to load to.\n",
    "# We now use duckdb, but you can switch to Bigquery later\n",
    "pipeline = dlt.pipeline(destination='duckdb', dataset_name='generators')\n",
    "\n",
    "\n",
    "\n",
    "# run with merge write disposition.\n",
    "# This is so scaffolding is created for the next example,\n",
    "# where we look at merging data\n",
    "\n",
    "info = pipeline.run(people_1(),\n",
    "\t\t\t\t\t\t\t\t\t\ttable_name=\"people_1_pk\",\n",
    "\t\t\t\t\t\t\t\t\t\twrite_disposition=\"replace\",\n",
    "                    primary_key=\"id\")\n",
    "\n",
    "print(info)\n",
    "\n",
    "info = pipeline.run(people_2(),\n",
    "\t\t\t\t\t\t\t\t\t\ttable_name=\"people_1_pk\",\n",
    "\t\t\t\t\t\t\t\t\t\twrite_disposition=\"merge\",\n",
    "                    primary_key=\"id\")\n",
    "\n",
    "print(info)"
   ],
   "metadata": {
    "id": "a2-PRBAkGC2K",
    "colab": {
     "base_uri": "https://localhost:8080/"
    },
    "outputId": "086efd90-4a4d-47e9-b601-4beedc660fee"
   },
   "execution_count": null,
   "outputs": []
  },
  {
   "cell_type": "code",
   "source": [
    "p_1 = conn.sql(\"SELECT * FROM people_1_pk\").df()\n",
    "display(p_1)\n",
    "\n",
    "p_1 = conn.sql(\"SELECT SUM(age) FROM people_1_pk\").df()\n",
    "display(p_1)"
   ],
   "metadata": {
    "colab": {
     "base_uri": "https://localhost:8080/",
     "height": 364
    },
    "id": "HmCYv8r5gzZ9",
    "outputId": "63a3bb43-5239-4a87-bb9b-e1342f993f5c"
   },
   "execution_count": null,
   "outputs": []
  },
  {
   "cell_type": "markdown",
   "source": [
    "Questions? difficulties? We are here to help.\n",
    "- DTC data engineering course channel: https://datatalks-club.slack.com/archives/C01FABYF2RG\n",
    "- dlt's DTC cohort channel: https://dlthub-community.slack.com/archives/C06GAEX2VNX"
   ],
   "metadata": {
    "id": "PoTJu4kbGG0z"
   }
  }
 ]
}
