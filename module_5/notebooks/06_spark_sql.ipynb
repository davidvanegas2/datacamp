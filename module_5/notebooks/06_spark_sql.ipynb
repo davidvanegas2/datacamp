{
 "cells": [
  {
   "cell_type": "code",
   "execution_count": 1,
   "id": "initial_id",
   "metadata": {
    "collapsed": true,
    "ExecuteTime": {
     "end_time": "2024-03-03T22:17:58.820655Z",
     "start_time": "2024-03-03T22:17:58.471990Z"
    }
   },
   "outputs": [],
   "source": [
    "import pyspark\n",
    "from pyspark.sql import SparkSession"
   ]
  },
  {
   "cell_type": "code",
   "outputs": [
    {
     "name": "stderr",
     "output_type": "stream",
     "text": [
      "24/03/03 17:18:06 WARN Utils: Your hostname, Davids-MacBook-Pro-3.local resolves to a loopback address: 127.0.0.1; using 192.168.1.5 instead (on interface en0)\n",
      "24/03/03 17:18:06 WARN Utils: Set SPARK_LOCAL_IP if you need to bind to another address\n",
      "Setting default log level to \"WARN\".\n",
      "To adjust logging level use sc.setLogLevel(newLevel). For SparkR, use setLogLevel(newLevel).\n",
      "24/03/03 17:18:06 WARN NativeCodeLoader: Unable to load native-hadoop library for your platform... using builtin-java classes where applicable\n"
     ]
    }
   ],
   "source": [
    "spark = SparkSession.builder \\\n",
    "    .master(\"local[*]\") \\\n",
    "    .appName('test') \\\n",
    "    .getOrCreate()"
   ],
   "metadata": {
    "collapsed": false,
    "ExecuteTime": {
     "end_time": "2024-03-03T22:18:06.896622Z",
     "start_time": "2024-03-03T22:18:05.238271Z"
    }
   },
   "id": "902ff769740dc8ef",
   "execution_count": 2
  },
  {
   "cell_type": "code",
   "outputs": [],
   "source": [
    "df_green = spark.read.parquet(\"../data/pq/green/*/*\")\n",
    "df_yellow = spark.read.parquet(\"../data/pq/yellow/*/*\")\n"
   ],
   "metadata": {
    "collapsed": false,
    "ExecuteTime": {
     "end_time": "2024-03-03T22:19:04.961470Z",
     "start_time": "2024-03-03T22:19:04.783155Z"
    }
   },
   "id": "d360cd690b568a5e",
   "execution_count": 4
  },
  {
   "cell_type": "code",
   "outputs": [
    {
     "name": "stdout",
     "output_type": "stream",
     "text": [
      "root\n",
      " |-- VendorID: long (nullable = true)\n",
      " |-- lpep_pickup_datetime: timestamp_ntz (nullable = true)\n",
      " |-- lpep_dropoff_datetime: timestamp_ntz (nullable = true)\n",
      " |-- store_and_fwd_flag: string (nullable = true)\n",
      " |-- RatecodeID: double (nullable = true)\n",
      " |-- PULocationID: long (nullable = true)\n",
      " |-- DOLocationID: long (nullable = true)\n",
      " |-- passenger_count: double (nullable = true)\n",
      " |-- trip_distance: double (nullable = true)\n",
      " |-- fare_amount: double (nullable = true)\n",
      " |-- extra: double (nullable = true)\n",
      " |-- mta_tax: double (nullable = true)\n",
      " |-- tip_amount: double (nullable = true)\n",
      " |-- tolls_amount: double (nullable = true)\n",
      " |-- ehail_fee: integer (nullable = true)\n",
      " |-- improvement_surcharge: double (nullable = true)\n",
      " |-- total_amount: double (nullable = true)\n",
      " |-- payment_type: double (nullable = true)\n",
      " |-- trip_type: double (nullable = true)\n",
      " |-- congestion_surcharge: double (nullable = true)\n"
     ]
    }
   ],
   "source": [
    "df_green.printSchema()"
   ],
   "metadata": {
    "collapsed": false,
    "ExecuteTime": {
     "end_time": "2024-03-03T22:19:24.476349Z",
     "start_time": "2024-03-03T22:19:24.470170Z"
    }
   },
   "id": "b2973030fdd2af01",
   "execution_count": 5
  },
  {
   "cell_type": "code",
   "outputs": [
    {
     "name": "stdout",
     "output_type": "stream",
     "text": [
      "root\n",
      " |-- VendorID: long (nullable = true)\n",
      " |-- tpep_pickup_datetime: timestamp_ntz (nullable = true)\n",
      " |-- tpep_dropoff_datetime: timestamp_ntz (nullable = true)\n",
      " |-- passenger_count: double (nullable = true)\n",
      " |-- trip_distance: double (nullable = true)\n",
      " |-- RatecodeID: double (nullable = true)\n",
      " |-- store_and_fwd_flag: string (nullable = true)\n",
      " |-- PULocationID: long (nullable = true)\n",
      " |-- DOLocationID: long (nullable = true)\n",
      " |-- payment_type: long (nullable = true)\n",
      " |-- fare_amount: double (nullable = true)\n",
      " |-- extra: double (nullable = true)\n",
      " |-- mta_tax: double (nullable = true)\n",
      " |-- tip_amount: double (nullable = true)\n",
      " |-- tolls_amount: double (nullable = true)\n",
      " |-- improvement_surcharge: double (nullable = true)\n",
      " |-- total_amount: double (nullable = true)\n",
      " |-- congestion_surcharge: double (nullable = true)\n",
      " |-- airport_fee: integer (nullable = true)\n"
     ]
    }
   ],
   "source": [
    "df_yellow.printSchema()"
   ],
   "metadata": {
    "collapsed": false,
    "ExecuteTime": {
     "end_time": "2024-03-03T22:23:17.740163Z",
     "start_time": "2024-03-03T22:23:17.734266Z"
    }
   },
   "id": "91593aa1962a10be",
   "execution_count": 6
  },
  {
   "cell_type": "code",
   "outputs": [
    {
     "name": "stdout",
     "output_type": "stream",
     "text": [
      "+--------+-------------------+-------------------+------------------+----------+------------+------------+---------------+-------------+-----------+-----+-------+----------+------------+---------+---------------------+------------+------------+---------+--------------------+\n",
      "|VendorID|    pickup_datetime|   dropoff_datetime|store_and_fwd_flag|RatecodeID|PULocationID|DOLocationID|passenger_count|trip_distance|fare_amount|extra|mta_tax|tip_amount|tolls_amount|ehail_fee|improvement_surcharge|total_amount|payment_type|trip_type|congestion_surcharge|\n",
      "+--------+-------------------+-------------------+------------------+----------+------------+------------+---------------+-------------+-----------+-----+-------+----------+------------+---------+---------------------+------------+------------+---------+--------------------+\n",
      "|       2|2020-01-11 04:05:54|2020-01-11 04:13:49|                 N|       1.0|         129|         129|            1.0|         0.81|        6.5|  0.5|    0.5|      0.71|         0.0|     NULL|                  0.3|        8.51|         1.0|      1.0|                 0.0|\n",
      "|       2|2020-01-17 19:33:05|2020-01-17 19:51:08|                 N|       1.0|          75|          42|            3.0|         2.69|       13.5|  1.0|    0.5|      3.06|         0.0|     NULL|                  0.3|       18.36|         1.0|      1.0|                 0.0|\n",
      "|       2|2020-01-30 12:41:00|2020-01-30 13:30:00|              NULL|      NULL|         117|         188|           NULL|        13.11|      38.57| 2.75|    0.0|       0.0|        2.29|     NULL|                  0.3|       43.91|        NULL|     NULL|                NULL|\n",
      "|       2|2020-01-11 21:25:44|2020-01-11 21:40:11|                 N|       1.0|          41|         151|            1.0|         2.13|       11.0|  0.5|    0.5|       0.0|         0.0|     NULL|                  0.3|        12.3|         2.0|      1.0|                 0.0|\n",
      "|       2|2020-01-04 21:45:19|2020-01-04 21:52:57|                 N|       1.0|         129|         260|            1.0|         0.89|        6.5|  0.5|    0.5|       0.0|         0.0|     NULL|                  0.3|         7.8|         2.0|      1.0|                 0.0|\n",
      "+--------+-------------------+-------------------+------------------+----------+------------+------------+---------------+-------------+-----------+-----+-------+----------+------------+---------+---------------------+------------+------------+---------+--------------------+\n"
     ]
    }
   ],
   "source": [
    "df_green.show(5)"
   ],
   "metadata": {
    "collapsed": false,
    "ExecuteTime": {
     "end_time": "2024-03-03T22:28:27.585466Z",
     "start_time": "2024-03-03T22:28:27.501679Z"
    }
   },
   "id": "fef341dcf9d7641a",
   "execution_count": 17
  },
  {
   "cell_type": "code",
   "outputs": [
    {
     "name": "stdout",
     "output_type": "stream",
     "text": [
      "+--------+-------------------+-------------------+---------------+-------------+----------+------------------+------------+------------+------------+-----------+-----+-------+----------+------------+---------------------+------------+--------------------+-----------+\n",
      "|VendorID|    pickup_datetime|   dropoff_datetime|passenger_count|trip_distance|RatecodeID|store_and_fwd_flag|PULocationID|DOLocationID|payment_type|fare_amount|extra|mta_tax|tip_amount|tolls_amount|improvement_surcharge|total_amount|congestion_surcharge|airport_fee|\n",
      "+--------+-------------------+-------------------+---------------+-------------+----------+------------------+------------+------------+------------+-----------+-----+-------+----------+------------+---------------------+------------+--------------------+-----------+\n",
      "|       1|2020-01-02 18:49:18|2020-01-02 19:06:24|            0.0|          2.7|       1.0|                 N|         263|         230|           1|       13.0|  3.5|    0.5|      3.45|         0.0|                  0.3|       20.75|                 2.5|       NULL|\n",
      "|       2|2020-01-30 19:15:47|2020-01-30 19:40:38|           NULL|         4.58|      NULL|              NULL|         147|          41|           0|      25.28| 2.75|    0.0|       0.0|         0.0|                  0.3|       28.33|                NULL|       NULL|\n",
      "|       2|2020-01-06 21:05:11|2020-01-06 21:08:07|            2.0|         0.83|       1.0|                 N|         142|         239|           1|        4.5|  0.5|    0.5|       1.0|         0.0|                  0.3|         9.3|                 2.5|       NULL|\n",
      "|       2|2020-01-07 09:13:36|2020-01-07 09:18:26|            1.0|         0.96|       1.0|                 N|         107|          79|           2|        5.5|  0.0|    0.5|       0.0|         0.0|                  0.3|         8.8|                 2.5|       NULL|\n",
      "|       2|2020-01-21 08:42:00|2020-01-21 08:56:55|            3.0|         2.05|       1.0|                 N|         143|          68|           1|       10.5|  0.0|    0.5|      2.76|         0.0|                  0.3|       16.56|                 2.5|       NULL|\n",
      "+--------+-------------------+-------------------+---------------+-------------+----------+------------------+------------+------------+------------+-----------+-----+-------+----------+------------+---------------------+------------+--------------------+-----------+\n"
     ]
    }
   ],
   "source": [
    "df_yellow.show(5)"
   ],
   "metadata": {
    "collapsed": false,
    "ExecuteTime": {
     "end_time": "2024-03-03T22:28:24.968535Z",
     "start_time": "2024-03-03T22:28:24.869287Z"
    }
   },
   "id": "5687c1ef7ddb36b9",
   "execution_count": 16
  },
  {
   "cell_type": "code",
   "outputs": [],
   "source": [
    "df_green = df_green.withColumnsRenamed(\n",
    "    {\n",
    "        \"lpep_pickup_datetime\": \"pickup_datetime\",\n",
    "        \"lpep_dropoff_datetime\": \"dropoff_datetime\",\n",
    "    }\n",
    ")\n",
    "\n",
    "df_yellow = df_yellow.withColumnsRenamed(\n",
    "    {\n",
    "        \"tpep_pickup_datetime\": \"pickup_datetime\",\n",
    "        \"tpep_dropoff_datetime\": \"dropoff_datetime\",\n",
    "    }\n",
    ")"
   ],
   "metadata": {
    "collapsed": false,
    "ExecuteTime": {
     "end_time": "2024-03-03T22:28:22.335373Z",
     "start_time": "2024-03-03T22:28:22.318307Z"
    }
   },
   "id": "838c03aeced41397",
   "execution_count": 15
  },
  {
   "cell_type": "code",
   "outputs": [
    {
     "data": {
      "text/plain": "{'DOLocationID',\n 'PULocationID',\n 'RatecodeID',\n 'VendorID',\n 'congestion_surcharge',\n 'dropoff_datetime',\n 'extra',\n 'fare_amount',\n 'improvement_surcharge',\n 'mta_tax',\n 'passenger_count',\n 'payment_type',\n 'pickup_datetime',\n 'store_and_fwd_flag',\n 'tip_amount',\n 'tolls_amount',\n 'total_amount',\n 'trip_distance'}"
     },
     "execution_count": 18,
     "metadata": {},
     "output_type": "execute_result"
    }
   ],
   "source": [
    "# Get the intersection of the columns\n",
    "set(df_green.columns) & set(df_yellow.columns)"
   ],
   "metadata": {
    "collapsed": false,
    "ExecuteTime": {
     "end_time": "2024-03-03T22:28:45.322123Z",
     "start_time": "2024-03-03T22:28:45.275702Z"
    }
   },
   "id": "9eb983b95ac5ef6d",
   "execution_count": 18
  },
  {
   "cell_type": "code",
   "outputs": [],
   "source": [
    "from pyspark.sql import functions as F\n",
    "\n",
    "common_columns = []\n",
    "\n",
    "for column in df_green.columns:\n",
    "    if column in set(df_yellow.columns):\n",
    "        common_columns.append(column)\n",
    "\n",
    "df_green_sel = df_green \\\n",
    "    .select(common_columns) \\\n",
    "    .withColumn(\"type\", F.lit(\"green\"))\n",
    "\n",
    "df_yellow_sel = df_yellow \\\n",
    "    .select(common_columns) \\\n",
    "    .withColumn(\"type\", F.lit(\"yellow\"))"
   ],
   "metadata": {
    "collapsed": false,
    "ExecuteTime": {
     "end_time": "2024-03-03T22:33:10.915717Z",
     "start_time": "2024-03-03T22:33:10.867093Z"
    }
   },
   "id": "5eed2f941e053f3a",
   "execution_count": 23
  },
  {
   "cell_type": "code",
   "outputs": [
    {
     "name": "stdout",
     "output_type": "stream",
     "text": [
      "+--------+-------------------+-------------------+------------------+----------+------------+------------+---------------+-------------+-----------+-----+-------+----------+------------+---------------------+------------+------------+--------------------+-----+\n",
      "|VendorID|    pickup_datetime|   dropoff_datetime|store_and_fwd_flag|RatecodeID|PULocationID|DOLocationID|passenger_count|trip_distance|fare_amount|extra|mta_tax|tip_amount|tolls_amount|improvement_surcharge|total_amount|payment_type|congestion_surcharge| type|\n",
      "+--------+-------------------+-------------------+------------------+----------+------------+------------+---------------+-------------+-----------+-----+-------+----------+------------+---------------------+------------+------------+--------------------+-----+\n",
      "|       2|2020-01-11 04:05:54|2020-01-11 04:13:49|                 N|       1.0|         129|         129|            1.0|         0.81|        6.5|  0.5|    0.5|      0.71|         0.0|                  0.3|        8.51|         1.0|                 0.0|green|\n",
      "|       2|2020-01-17 19:33:05|2020-01-17 19:51:08|                 N|       1.0|          75|          42|            3.0|         2.69|       13.5|  1.0|    0.5|      3.06|         0.0|                  0.3|       18.36|         1.0|                 0.0|green|\n",
      "|       2|2020-01-30 12:41:00|2020-01-30 13:30:00|              NULL|      NULL|         117|         188|           NULL|        13.11|      38.57| 2.75|    0.0|       0.0|        2.29|                  0.3|       43.91|        NULL|                NULL|green|\n",
      "|       2|2020-01-11 21:25:44|2020-01-11 21:40:11|                 N|       1.0|          41|         151|            1.0|         2.13|       11.0|  0.5|    0.5|       0.0|         0.0|                  0.3|        12.3|         2.0|                 0.0|green|\n",
      "|       2|2020-01-04 21:45:19|2020-01-04 21:52:57|                 N|       1.0|         129|         260|            1.0|         0.89|        6.5|  0.5|    0.5|       0.0|         0.0|                  0.3|         7.8|         2.0|                 0.0|green|\n",
      "+--------+-------------------+-------------------+------------------+----------+------------+------------+---------------+-------------+-----------+-----+-------+----------+------------+---------------------+------------+------------+--------------------+-----+\n"
     ]
    }
   ],
   "source": [
    "df_green_sel.show(5)"
   ],
   "metadata": {
    "collapsed": false,
    "ExecuteTime": {
     "end_time": "2024-03-03T22:33:22.228397Z",
     "start_time": "2024-03-03T22:33:22.153292Z"
    }
   },
   "id": "6a0a5a0fa8691ef1",
   "execution_count": 24
  },
  {
   "cell_type": "code",
   "outputs": [
    {
     "name": "stdout",
     "output_type": "stream",
     "text": [
      "+--------+-------------------+-------------------+------------------+----------+------------+------------+---------------+-------------+-----------+-----+-------+----------+------------+---------------------+------------+------------+--------------------+------+\n",
      "|VendorID|    pickup_datetime|   dropoff_datetime|store_and_fwd_flag|RatecodeID|PULocationID|DOLocationID|passenger_count|trip_distance|fare_amount|extra|mta_tax|tip_amount|tolls_amount|improvement_surcharge|total_amount|payment_type|congestion_surcharge|  type|\n",
      "+--------+-------------------+-------------------+------------------+----------+------------+------------+---------------+-------------+-----------+-----+-------+----------+------------+---------------------+------------+------------+--------------------+------+\n",
      "|       1|2020-01-02 18:49:18|2020-01-02 19:06:24|                 N|       1.0|         263|         230|            0.0|          2.7|       13.0|  3.5|    0.5|      3.45|         0.0|                  0.3|       20.75|           1|                 2.5|yellow|\n",
      "|       2|2020-01-30 19:15:47|2020-01-30 19:40:38|              NULL|      NULL|         147|          41|           NULL|         4.58|      25.28| 2.75|    0.0|       0.0|         0.0|                  0.3|       28.33|           0|                NULL|yellow|\n",
      "|       2|2020-01-06 21:05:11|2020-01-06 21:08:07|                 N|       1.0|         142|         239|            2.0|         0.83|        4.5|  0.5|    0.5|       1.0|         0.0|                  0.3|         9.3|           1|                 2.5|yellow|\n",
      "|       2|2020-01-07 09:13:36|2020-01-07 09:18:26|                 N|       1.0|         107|          79|            1.0|         0.96|        5.5|  0.0|    0.5|       0.0|         0.0|                  0.3|         8.8|           2|                 2.5|yellow|\n",
      "|       2|2020-01-21 08:42:00|2020-01-21 08:56:55|                 N|       1.0|         143|          68|            3.0|         2.05|       10.5|  0.0|    0.5|      2.76|         0.0|                  0.3|       16.56|           1|                 2.5|yellow|\n",
      "+--------+-------------------+-------------------+------------------+----------+------------+------------+---------------+-------------+-----------+-----+-------+----------+------------+---------------------+------------+------------+--------------------+------+\n"
     ]
    }
   ],
   "source": [
    "df_yellow_sel.show(5)"
   ],
   "metadata": {
    "collapsed": false,
    "ExecuteTime": {
     "end_time": "2024-03-03T22:33:36.217615Z",
     "start_time": "2024-03-03T22:33:36.144688Z"
    }
   },
   "id": "67831ea65c418bf2",
   "execution_count": 25
  },
  {
   "cell_type": "code",
   "outputs": [],
   "source": [
    "df_trips_data = df_green_sel.union(df_yellow_sel)"
   ],
   "metadata": {
    "collapsed": false,
    "ExecuteTime": {
     "end_time": "2024-03-03T22:34:20.938684Z",
     "start_time": "2024-03-03T22:34:20.918333Z"
    }
   },
   "id": "ac2b462f9127ef12",
   "execution_count": 26
  },
  {
   "cell_type": "code",
   "outputs": [
    {
     "name": "stderr",
     "output_type": "stream",
     "text": [
      "[Stage 12:==============================================>         (20 + 4) / 24]\r"
     ]
    },
    {
     "name": "stdout",
     "output_type": "stream",
     "text": [
      "+------+--------+\n",
      "|  type|   count|\n",
      "+------+--------+\n",
      "| green| 2802931|\n",
      "|yellow|55553400|\n",
      "+------+--------+\n"
     ]
    },
    {
     "name": "stderr",
     "output_type": "stream",
     "text": [
      "                                                                                \r"
     ]
    }
   ],
   "source": [
    "df_trips_data.groupBy(\"type\").count().show()"
   ],
   "metadata": {
    "collapsed": false,
    "ExecuteTime": {
     "end_time": "2024-03-03T22:34:35.057248Z",
     "start_time": "2024-03-03T22:34:33.274530Z"
    }
   },
   "id": "936bfc7c3332084f",
   "execution_count": 27
  },
  {
   "cell_type": "code",
   "outputs": [
    {
     "name": "stderr",
     "output_type": "stream",
     "text": [
      "[Stage 15:=========================>                             (11 + 10) / 24]\r"
     ]
    },
    {
     "name": "stdout",
     "output_type": "stream",
     "text": [
      "+------+--------+\n",
      "|  type|   count|\n",
      "+------+--------+\n",
      "|yellow|55553400|\n",
      "| green| 2802931|\n",
      "+------+--------+\n"
     ]
    },
    {
     "name": "stderr",
     "output_type": "stream",
     "text": [
      "                                                                                \r"
     ]
    }
   ],
   "source": [
    "df_trips_data.registerTempTable('trips_data')\n",
    "\n",
    "spark.sql(\"\"\"\n",
    "    SELECT type, COUNT(*) AS count\n",
    "    FROM trips_data\n",
    "    GROUP BY type\n",
    "    ORDER BY count DESC\n",
    "\"\"\").show()"
   ],
   "metadata": {
    "collapsed": false,
    "ExecuteTime": {
     "end_time": "2024-03-03T22:36:14.008600Z",
     "start_time": "2024-03-03T22:36:12.882260Z"
    }
   },
   "id": "52af88ec4adc0c23",
   "execution_count": 30
  },
  {
   "cell_type": "code",
   "outputs": [],
   "source": [
    "df_result = spark.sql(\"\"\"\n",
    "SELECT \n",
    "    -- Reveneue grouping \n",
    "    PULocationID AS revenue_zone,\n",
    "    date_trunc('month', pickup_datetime) AS revenue_month, \n",
    "    type, \n",
    "\n",
    "    -- Revenue calculation \n",
    "    SUM(fare_amount) AS revenue_monthly_fare,\n",
    "    SUM(extra) AS revenue_monthly_extra,\n",
    "    SUM(mta_tax) AS revenue_monthly_mta_tax,\n",
    "    SUM(tip_amount) AS revenue_monthly_tip_amount,\n",
    "    SUM(tolls_amount) AS revenue_monthly_tolls_amount,\n",
    "    SUM(improvement_surcharge) AS revenue_monthly_improvement_surcharge,\n",
    "    SUM(total_amount) AS revenue_monthly_total_amount,\n",
    "    SUM(congestion_surcharge) AS revenue_monthly_congestion_surcharge,\n",
    "\n",
    "    -- Additional calculations\n",
    "    AVG(passenger_count) AS avg_montly_passenger_count,\n",
    "    AVG(trip_distance) AS avg_montly_trip_distance\n",
    "FROM\n",
    "    trips_data\n",
    "GROUP BY\n",
    "    1, 2, 3\n",
    "\"\"\")"
   ],
   "metadata": {
    "collapsed": false,
    "ExecuteTime": {
     "end_time": "2024-03-03T22:38:08.353668Z",
     "start_time": "2024-03-03T22:38:08.320080Z"
    }
   },
   "id": "b32532646c1c3a18",
   "execution_count": 33
  },
  {
   "cell_type": "code",
   "outputs": [
    {
     "name": "stderr",
     "output_type": "stream",
     "text": [
      "                                                                                \r"
     ]
    }
   ],
   "source": [
    "df_result.write.parquet('../data/report/revenue/')"
   ],
   "metadata": {
    "collapsed": false,
    "ExecuteTime": {
     "end_time": "2024-03-03T22:40:11.938653Z",
     "start_time": "2024-03-03T22:40:04.996922Z"
    }
   },
   "id": "7df745fa88cbbcb",
   "execution_count": 35
  }
 ],
 "metadata": {
  "kernelspec": {
   "display_name": "Python 3",
   "language": "python",
   "name": "python3"
  },
  "language_info": {
   "codemirror_mode": {
    "name": "ipython",
    "version": 2
   },
   "file_extension": ".py",
   "mimetype": "text/x-python",
   "name": "python",
   "nbconvert_exporter": "python",
   "pygments_lexer": "ipython2",
   "version": "2.7.6"
  }
 },
 "nbformat": 4,
 "nbformat_minor": 5
}
