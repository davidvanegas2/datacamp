{
 "cells": [
  {
   "cell_type": "code",
   "execution_count": 1,
   "id": "initial_id",
   "metadata": {
    "collapsed": true,
    "ExecuteTime": {
     "end_time": "2024-03-04T21:59:35.262643Z",
     "start_time": "2024-03-04T21:59:34.162109Z"
    }
   },
   "outputs": [],
   "source": [
    "import pyspark\n",
    "from pyspark.sql import SparkSession"
   ]
  },
  {
   "cell_type": "code",
   "outputs": [
    {
     "name": "stderr",
     "output_type": "stream",
     "text": [
      "24/03/04 16:59:41 WARN Utils: Your hostname, Davids-MacBook-Pro-3.local resolves to a loopback address: 127.0.0.1; using 192.168.1.5 instead (on interface en0)\n",
      "24/03/04 16:59:41 WARN Utils: Set SPARK_LOCAL_IP if you need to bind to another address\n",
      "Setting default log level to \"WARN\".\n",
      "To adjust logging level use sc.setLogLevel(newLevel). For SparkR, use setLogLevel(newLevel).\n",
      "24/03/04 16:59:42 WARN NativeCodeLoader: Unable to load native-hadoop library for your platform... using builtin-java classes where applicable\n"
     ]
    }
   ],
   "source": [
    "spark = SparkSession.builder \\\n",
    "    .master(\"local[*]\") \\\n",
    "    .appName('test') \\\n",
    "    .getOrCreate()"
   ],
   "metadata": {
    "collapsed": false,
    "ExecuteTime": {
     "end_time": "2024-03-04T21:59:42.724831Z",
     "start_time": "2024-03-04T21:59:39.279625Z"
    }
   },
   "id": "1ea8b07aa4d4393c",
   "execution_count": 2
  },
  {
   "cell_type": "code",
   "outputs": [],
   "source": [
    "df_green = spark.read.parquet(\"../data/pq/green/*/*\")\n",
    "df_yellow = spark.read.parquet(\"../data/pq/yellow/*/*\")"
   ],
   "metadata": {
    "collapsed": false,
    "ExecuteTime": {
     "end_time": "2024-03-03T23:10:09.208301Z",
     "start_time": "2024-03-03T23:10:07.950694Z"
    }
   },
   "id": "7b825727b662727f",
   "execution_count": 3
  },
  {
   "cell_type": "code",
   "outputs": [
    {
     "name": "stdout",
     "output_type": "stream",
     "text": [
      "root\n",
      " |-- VendorID: long (nullable = true)\n",
      " |-- tpep_pickup_datetime: timestamp_ntz (nullable = true)\n",
      " |-- tpep_dropoff_datetime: timestamp_ntz (nullable = true)\n",
      " |-- passenger_count: double (nullable = true)\n",
      " |-- trip_distance: double (nullable = true)\n",
      " |-- RatecodeID: double (nullable = true)\n",
      " |-- store_and_fwd_flag: string (nullable = true)\n",
      " |-- PULocationID: long (nullable = true)\n",
      " |-- DOLocationID: long (nullable = true)\n",
      " |-- payment_type: long (nullable = true)\n",
      " |-- fare_amount: double (nullable = true)\n",
      " |-- extra: double (nullable = true)\n",
      " |-- mta_tax: double (nullable = true)\n",
      " |-- tip_amount: double (nullable = true)\n",
      " |-- tolls_amount: double (nullable = true)\n",
      " |-- improvement_surcharge: double (nullable = true)\n",
      " |-- total_amount: double (nullable = true)\n",
      " |-- congestion_surcharge: double (nullable = true)\n",
      " |-- airport_fee: integer (nullable = true)\n"
     ]
    }
   ],
   "source": [
    "df_yellow.printSchema()"
   ],
   "metadata": {
    "collapsed": false,
    "ExecuteTime": {
     "end_time": "2024-03-04T01:43:12.248080Z",
     "start_time": "2024-03-04T01:43:12.244185Z"
    }
   },
   "id": "d2db32a6cb34ee6",
   "execution_count": 38
  },
  {
   "cell_type": "code",
   "outputs": [],
   "source": [
    "df_green.createOrReplaceTempView(\"green_data\")\n",
    "df_yellow.createOrReplaceTempView(\"yellow_data\")"
   ],
   "metadata": {
    "collapsed": false,
    "ExecuteTime": {
     "end_time": "2024-03-04T01:44:16.353106Z",
     "start_time": "2024-03-04T01:44:16.337691Z"
    }
   },
   "id": "2faccfedf5d92131",
   "execution_count": 42
  },
  {
   "cell_type": "code",
   "outputs": [],
   "source": [
    "df_result = spark.sql(\"\"\"\n",
    "SELECT \n",
    "    -- Reveneue grouping \n",
    "    date_trunc('hour', tpep_pickup_datetime) AS revenue_month,\n",
    "    PULocationID AS revenue_zone,\n",
    "\n",
    "    SUM(total_amount) AS amount,\n",
    "    COUNT(1) AS revenue_monthly_total_trips\n",
    "FROM\n",
    "    yellow_data\n",
    "WHERE\n",
    "    tpep_pickup_datetime >= '2020-01-01' AND tpep_pickup_datetime < '2022-01-01'\n",
    "GROUP BY\n",
    "    1, 2\n",
    "\"\"\")"
   ],
   "metadata": {
    "collapsed": false,
    "ExecuteTime": {
     "end_time": "2024-03-04T01:44:18.389796Z",
     "start_time": "2024-03-04T01:44:18.369014Z"
    }
   },
   "id": "7bcb2b3f6f206309",
   "execution_count": 43
  },
  {
   "cell_type": "code",
   "outputs": [
    {
     "name": "stderr",
     "output_type": "stream",
     "text": [
      "[Stage 28:================================================>       (12 + 2) / 14]\r"
     ]
    },
    {
     "name": "stdout",
     "output_type": "stream",
     "text": [
      "+-------------------+------------+------------------+---------------------------+\n",
      "|      revenue_month|revenue_zone|            amount|revenue_monthly_total_trips|\n",
      "+-------------------+------------+------------------+---------------------------+\n",
      "|2020-01-20 15:00:00|         262|2161.0599999999986|                        140|\n",
      "|2020-01-15 04:00:00|         238|237.42000000000002|                         14|\n",
      "|2020-01-12 13:00:00|         246| 6737.700000000007|                        390|\n",
      "|2020-01-04 01:00:00|          79| 9696.750000000018|                        572|\n",
      "|2020-01-17 09:00:00|          50|1518.9599999999991|                         97|\n",
      "+-------------------+------------+------------------+---------------------------+\n"
     ]
    },
    {
     "name": "stderr",
     "output_type": "stream",
     "text": [
      "                                                                                \r"
     ]
    }
   ],
   "source": [
    "df_result.show(5)"
   ],
   "metadata": {
    "collapsed": false,
    "ExecuteTime": {
     "end_time": "2024-03-04T01:44:04.944286Z",
     "start_time": "2024-03-04T01:43:59.439522Z"
    }
   },
   "id": "c0ff8aac515fbee1",
   "execution_count": 41
  },
  {
   "cell_type": "code",
   "outputs": [
    {
     "name": "stderr",
     "output_type": "stream",
     "text": [
      "24/03/03 20:44:32 WARN MemoryManager: Total allocation exceeds 95.00% (1,020,054,720 bytes) of heap memory\n",
      "Scaling row group sizes to 95.00% for 8 writers\n",
      "24/03/03 20:44:32 WARN MemoryManager: Total allocation exceeds 95.00% (1,020,054,720 bytes) of heap memory\n",
      "Scaling row group sizes to 84.44% for 9 writers\n",
      "24/03/03 20:44:32 WARN MemoryManager: Total allocation exceeds 95.00% (1,020,054,720 bytes) of heap memory\n",
      "Scaling row group sizes to 76.00% for 10 writers\n",
      "24/03/03 20:44:33 WARN MemoryManager: Total allocation exceeds 95.00% (1,020,054,720 bytes) of heap memory\n",
      "Scaling row group sizes to 84.44% for 9 writers\n",
      "24/03/03 20:44:33 WARN MemoryManager: Total allocation exceeds 95.00% (1,020,054,720 bytes) of heap memory\n",
      "Scaling row group sizes to 95.00% for 8 writers\n",
      "                                                                                \r"
     ]
    }
   ],
   "source": [
    "df_result.write.parquet(\"../data/report/revenue/yellow\", mode=\"overwrite\")"
   ],
   "metadata": {
    "collapsed": false,
    "ExecuteTime": {
     "end_time": "2024-03-04T01:44:33.375210Z",
     "start_time": "2024-03-04T01:44:27.527493Z"
    }
   },
   "id": "963355f2e7322d86",
   "execution_count": 44
  },
  {
   "cell_type": "markdown",
   "source": [
    "# Next day (Joins)"
   ],
   "metadata": {
    "collapsed": false
   },
   "id": "21fa5448bdf81328"
  },
  {
   "cell_type": "code",
   "outputs": [],
   "source": [
    "df_yellow_revenue = spark.read.parquet(\"../data/report/revenue/yellow\")\n",
    "df_green_revenue = spark.read.parquet(\"../data/report/revenue/green\")"
   ],
   "metadata": {
    "collapsed": false,
    "ExecuteTime": {
     "end_time": "2024-03-04T22:04:21.678058Z",
     "start_time": "2024-03-04T22:04:20.199103Z"
    }
   },
   "id": "74058ec3019230f6",
   "execution_count": 3
  },
  {
   "cell_type": "code",
   "outputs": [],
   "source": [
    "df_green_revenue = df_green_revenue \\\n",
    "    .withColumnRenamed(\"amount\", \"green_amount\") \\\n",
    "    .withColumnRenamed(\"revenue_monthly_total_trips\", \"green_trips\")\n",
    "\n",
    "df_yellow_revenue = df_yellow_revenue \\\n",
    "    .withColumnRenamed(\"amount\", \"yellow_amount\") \\\n",
    "    .withColumnRenamed(\"revenue_monthly_total_trips\", \"yellow_trips\")"
   ],
   "metadata": {
    "collapsed": false,
    "ExecuteTime": {
     "end_time": "2024-03-04T22:07:49.240702Z",
     "start_time": "2024-03-04T22:07:49.227809Z"
    }
   },
   "id": "13e9926c4cc29c83",
   "execution_count": 10
  },
  {
   "cell_type": "code",
   "outputs": [],
   "source": [
    "df_join = df_green_revenue.join(df_yellow_revenue, on=[\"revenue_month\", \"revenue_zone\"], how=\"outer\")"
   ],
   "metadata": {
    "collapsed": false,
    "ExecuteTime": {
     "end_time": "2024-03-04T22:07:52.713129Z",
     "start_time": "2024-03-04T22:07:52.703505Z"
    }
   },
   "id": "6ef8bc346a47a322",
   "execution_count": 11
  },
  {
   "cell_type": "code",
   "outputs": [
    {
     "name": "stderr",
     "output_type": "stream",
     "text": [
      "[Stage 13:>                                                       (0 + 10) / 11]\r"
     ]
    },
    {
     "name": "stdout",
     "output_type": "stream",
     "text": [
      "+-------------------+------------+------------------+-----------+------------------+------------+\n",
      "|      revenue_month|revenue_zone|      green_amount|green_trips|     yellow_amount|yellow_trips|\n",
      "+-------------------+------------+------------------+-----------+------------------+------------+\n",
      "|2020-01-01 00:00:00|          24|              87.6|          3|            754.95|          45|\n",
      "|2020-01-01 00:00:00|          34|              NULL|       NULL|              19.3|           1|\n",
      "|2020-01-01 00:00:00|          41|1363.9599999999987|         84|1256.5299999999997|          80|\n",
      "|2020-01-01 00:00:00|          71|              23.8|          1|              NULL|        NULL|\n",
      "|2020-01-01 00:00:00|          87|              NULL|       NULL| 2456.669999999999|         112|\n",
      "+-------------------+------------+------------------+-----------+------------------+------------+\n"
     ]
    },
    {
     "name": "stderr",
     "output_type": "stream",
     "text": [
      "                                                                                \r"
     ]
    }
   ],
   "source": [
    "df_join.show(5)"
   ],
   "metadata": {
    "collapsed": false,
    "ExecuteTime": {
     "end_time": "2024-03-04T22:07:54.702014Z",
     "start_time": "2024-03-04T22:07:53.597876Z"
    }
   },
   "id": "bca86c9dabadab59",
   "execution_count": 12
  },
  {
   "cell_type": "code",
   "outputs": [
    {
     "name": "stderr",
     "output_type": "stream",
     "text": [
      "24/03/04 17:18:02 WARN MemoryManager: Total allocation exceeds 95.00% (1,020,054,720 bytes) of heap memory\n",
      "Scaling row group sizes to 95.00% for 8 writers\n",
      "24/03/04 17:18:02 WARN MemoryManager: Total allocation exceeds 95.00% (1,020,054,720 bytes) of heap memory\n",
      "Scaling row group sizes to 84.44% for 9 writers\n",
      "24/03/04 17:18:02 WARN MemoryManager: Total allocation exceeds 95.00% (1,020,054,720 bytes) of heap memory\n",
      "Scaling row group sizes to 76.00% for 10 writers\n",
      "24/03/04 17:18:03 WARN MemoryManager: Total allocation exceeds 95.00% (1,020,054,720 bytes) of heap memory\n",
      "Scaling row group sizes to 84.44% for 9 writers\n",
      "24/03/04 17:18:03 WARN MemoryManager: Total allocation exceeds 95.00% (1,020,054,720 bytes) of heap memory\n",
      "Scaling row group sizes to 95.00% for 8 writers\n",
      "                                                                                \r"
     ]
    }
   ],
   "source": [
    "df_join.write.parquet(\"../data/report/revenue/total\", mode=\"overwrite\")"
   ],
   "metadata": {
    "collapsed": false,
    "ExecuteTime": {
     "end_time": "2024-03-04T22:18:03.742149Z",
     "start_time": "2024-03-04T22:18:01.218529Z"
    }
   },
   "id": "44103e5e8badf6c8",
   "execution_count": 13
  },
  {
   "cell_type": "code",
   "outputs": [],
   "source": [
    "df_join = spark.read.parquet(\"../data/report/revenue/total\")"
   ],
   "metadata": {
    "collapsed": false,
    "ExecuteTime": {
     "end_time": "2024-03-04T22:26:08.225443Z",
     "start_time": "2024-03-04T22:26:08.126470Z"
    }
   },
   "id": "8e824b6113a2ee47",
   "execution_count": 14
  },
  {
   "cell_type": "code",
   "outputs": [
    {
     "name": "stdout",
     "output_type": "stream",
     "text": [
      "+-------------------+------------+------------------+-----------+------------------+------------+\n",
      "|      revenue_month|revenue_zone|      green_amount|green_trips|     yellow_amount|yellow_trips|\n",
      "+-------------------+------------+------------------+-----------+------------------+------------+\n",
      "|2020-01-01 00:00:00|          24|              87.6|          3|            754.95|          45|\n",
      "|2020-01-01 00:00:00|          34|              NULL|       NULL|              19.3|           1|\n",
      "|2020-01-01 00:00:00|          41|1363.9599999999987|         84|1256.5299999999997|          80|\n",
      "|2020-01-01 00:00:00|          71|              23.8|          1|              NULL|        NULL|\n",
      "|2020-01-01 00:00:00|          87|              NULL|       NULL| 2456.669999999999|         112|\n",
      "+-------------------+------------+------------------+-----------+------------------+------------+\n"
     ]
    }
   ],
   "source": [
    "df_join.show(5)"
   ],
   "metadata": {
    "collapsed": false,
    "ExecuteTime": {
     "end_time": "2024-03-04T22:26:14.170371Z",
     "start_time": "2024-03-04T22:26:14.078307Z"
    }
   },
   "id": "64d2aaaa4964c51e",
   "execution_count": 15
  },
  {
   "cell_type": "code",
   "outputs": [],
   "source": [
    "df_zones = spark.read.parquet(\"../data/pq/zones\")"
   ],
   "metadata": {
    "collapsed": false,
    "ExecuteTime": {
     "end_time": "2024-03-04T22:31:12.382173Z",
     "start_time": "2024-03-04T22:31:12.318705Z"
    }
   },
   "id": "b0331b0cc63cd06",
   "execution_count": 16
  },
  {
   "cell_type": "code",
   "outputs": [
    {
     "name": "stdout",
     "output_type": "stream",
     "text": [
      "+----------+-------------+--------------------+------------+\n",
      "|LocationID|      Borough|                Zone|service_zone|\n",
      "+----------+-------------+--------------------+------------+\n",
      "|         1|          EWR|      Newark Airport|         EWR|\n",
      "|         2|       Queens|         Jamaica Bay|   Boro Zone|\n",
      "|         3|        Bronx|Allerton/Pelham G...|   Boro Zone|\n",
      "|         4|    Manhattan|       Alphabet City| Yellow Zone|\n",
      "|         5|Staten Island|       Arden Heights|   Boro Zone|\n",
      "+----------+-------------+--------------------+------------+\n"
     ]
    }
   ],
   "source": [
    "df_zones.show(5)"
   ],
   "metadata": {
    "collapsed": false,
    "ExecuteTime": {
     "end_time": "2024-03-04T22:31:25.444408Z",
     "start_time": "2024-03-04T22:31:25.400778Z"
    }
   },
   "id": "313880fa464f7e1e",
   "execution_count": 17
  },
  {
   "cell_type": "code",
   "outputs": [],
   "source": [
    "df_result = df_join.join(df_zones, df_join.revenue_zone == df_zones.LocationID, how=\"left\")"
   ],
   "metadata": {
    "collapsed": false,
    "ExecuteTime": {
     "end_time": "2024-03-04T22:32:29.483774Z",
     "start_time": "2024-03-04T22:32:29.459222Z"
    }
   },
   "id": "e2cd6b9140f2ed8b",
   "execution_count": 19
  },
  {
   "cell_type": "code",
   "outputs": [
    {
     "name": "stdout",
     "output_type": "stream",
     "text": [
      "+-------------------+------------+------------------+-----------+------------------+------------+----------+---------+--------------------+------------+\n",
      "|      revenue_month|revenue_zone|      green_amount|green_trips|     yellow_amount|yellow_trips|LocationID|  Borough|                Zone|service_zone|\n",
      "+-------------------+------------+------------------+-----------+------------------+------------+----------+---------+--------------------+------------+\n",
      "|2020-01-01 00:00:00|          24|              87.6|          3|            754.95|          45|        24|Manhattan|        Bloomingdale| Yellow Zone|\n",
      "|2020-01-01 00:00:00|          34|              NULL|       NULL|              19.3|           1|        34| Brooklyn|  Brooklyn Navy Yard|   Boro Zone|\n",
      "|2020-01-01 00:00:00|          41|1363.9599999999987|         84|1256.5299999999997|          80|        41|Manhattan|      Central Harlem|   Boro Zone|\n",
      "|2020-01-01 00:00:00|          71|              23.8|          1|              NULL|        NULL|        71| Brooklyn|East Flatbush/Far...|   Boro Zone|\n",
      "|2020-01-01 00:00:00|          87|              NULL|       NULL| 2456.669999999999|         112|        87|Manhattan|Financial Distric...| Yellow Zone|\n",
      "+-------------------+------------+------------------+-----------+------------------+------------+----------+---------+--------------------+------------+\n"
     ]
    }
   ],
   "source": [
    "df_result.show(5)"
   ],
   "metadata": {
    "collapsed": false,
    "ExecuteTime": {
     "end_time": "2024-03-04T22:32:42.948580Z",
     "start_time": "2024-03-04T22:32:42.814323Z"
    }
   },
   "id": "8b232ff6c5eacb2d",
   "execution_count": 20
  },
  {
   "cell_type": "code",
   "outputs": [],
   "source": [
    "df_result.write.parquet(\"../data/report/revenue/total_with_zones\", mode=\"overwrite\")"
   ],
   "metadata": {
    "collapsed": false
   },
   "id": "ea65ae63edec1cc6"
  },
  {
   "cell_type": "code",
   "outputs": [],
   "source": [
    "rdd_test = df_result.rdd"
   ],
   "metadata": {
    "collapsed": false,
    "ExecuteTime": {
     "end_time": "2024-03-04T23:46:37.568694Z",
     "start_time": "2024-03-04T23:46:37.453499Z"
    }
   },
   "id": "a3becb9489ffb586",
   "execution_count": 21
  },
  {
   "cell_type": "code",
   "outputs": [
    {
     "data": {
      "text/plain": "11"
     },
     "execution_count": 23,
     "metadata": {},
     "output_type": "execute_result"
    }
   ],
   "source": [
    "rdd_test.getNumPartitions()"
   ],
   "metadata": {
    "collapsed": false,
    "ExecuteTime": {
     "end_time": "2024-03-04T23:47:14.027403Z",
     "start_time": "2024-03-04T23:47:14.023114Z"
    }
   },
   "id": "6556e5faee843379",
   "execution_count": 23
  }
 ],
 "metadata": {
  "kernelspec": {
   "display_name": "Python 3",
   "language": "python",
   "name": "python3"
  },
  "language_info": {
   "codemirror_mode": {
    "name": "ipython",
    "version": 2
   },
   "file_extension": ".py",
   "mimetype": "text/x-python",
   "name": "python",
   "nbconvert_exporter": "python",
   "pygments_lexer": "ipython2",
   "version": "2.7.6"
  }
 },
 "nbformat": 4,
 "nbformat_minor": 5
}
