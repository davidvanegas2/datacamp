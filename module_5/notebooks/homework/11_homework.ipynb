{
 "cells": [
  {
   "cell_type": "code",
   "execution_count": 3,
   "id": "initial_id",
   "metadata": {
    "collapsed": true,
    "ExecuteTime": {
     "end_time": "2024-03-06T23:05:42.510623Z",
     "start_time": "2024-03-06T23:05:42.508574Z"
    }
   },
   "outputs": [],
   "source": [
    "import pyspark\n",
    "from pyspark.sql import SparkSession"
   ]
  },
  {
   "cell_type": "code",
   "outputs": [
    {
     "name": "stderr",
     "output_type": "stream",
     "text": [
      "24/03/06 18:06:06 WARN Utils: Your hostname, Davids-MacBook-Pro-3.local resolves to a loopback address: 127.0.0.1; using 192.168.1.5 instead (on interface en0)\n",
      "24/03/06 18:06:06 WARN Utils: Set SPARK_LOCAL_IP if you need to bind to another address\n",
      "Setting default log level to \"WARN\".\n",
      "To adjust logging level use sc.setLogLevel(newLevel). For SparkR, use setLogLevel(newLevel).\n",
      "24/03/06 18:06:06 WARN NativeCodeLoader: Unable to load native-hadoop library for your platform... using builtin-java classes where applicable\n"
     ]
    }
   ],
   "source": [
    "spark = SparkSession.builder \\\n",
    "    .master(\"local[*]\") \\\n",
    "    .appName('test') \\\n",
    "    .getOrCreate()"
   ],
   "metadata": {
    "collapsed": false,
    "ExecuteTime": {
     "end_time": "2024-03-06T23:06:07.044719Z",
     "start_time": "2024-03-06T23:06:05.495261Z"
    }
   },
   "id": "aa1d23193592a493",
   "execution_count": 5
  },
  {
   "cell_type": "markdown",
   "source": [],
   "metadata": {
    "collapsed": false
   },
   "id": "e705a7f2047b90ac"
  },
  {
   "cell_type": "code",
   "outputs": [],
   "source": [
    "df = spark.read \\\n",
    "    .option(\"header\", \"true\") \\\n",
    "    .csv('fhv_tripdata_2019-10.csv.gz')"
   ],
   "metadata": {
    "collapsed": false,
    "ExecuteTime": {
     "end_time": "2024-03-06T22:54:35.081935Z",
     "start_time": "2024-03-06T22:54:32.968966Z"
    }
   },
   "id": "b3b6c2e18f206b49",
   "execution_count": 4
  },
  {
   "cell_type": "code",
   "outputs": [
    {
     "name": "stdout",
     "output_type": "stream",
     "text": [
      "+--------------------+-------------------+-------------------+------------+------------+-------+----------------------+\n",
      "|dispatching_base_num|    pickup_datetime|   dropOff_datetime|PUlocationID|DOlocationID|SR_Flag|Affiliated_base_number|\n",
      "+--------------------+-------------------+-------------------+------------+------------+-------+----------------------+\n",
      "|              B00009|2019-10-01 00:23:00|2019-10-01 00:35:00|         264|         264|   NULL|                B00009|\n",
      "|              B00013|2019-10-01 00:11:29|2019-10-01 00:13:22|         264|         264|   NULL|                B00013|\n",
      "|              B00014|2019-10-01 00:11:43|2019-10-01 00:37:20|         264|         264|   NULL|                B00014|\n",
      "|              B00014|2019-10-01 00:56:29|2019-10-01 00:57:47|         264|         264|   NULL|                B00014|\n",
      "|              B00014|2019-10-01 00:23:09|2019-10-01 00:28:27|         264|         264|   NULL|                B00014|\n",
      "+--------------------+-------------------+-------------------+------------+------------+-------+----------------------+\n"
     ]
    }
   ],
   "source": [
    "df.show(5)"
   ],
   "metadata": {
    "collapsed": false,
    "ExecuteTime": {
     "end_time": "2024-03-06T22:56:00.892841Z",
     "start_time": "2024-03-06T22:56:00.817226Z"
    }
   },
   "id": "171c4da8d550e99a",
   "execution_count": 6
  },
  {
   "cell_type": "markdown",
   "source": [
    "## Question 2: Average size of the Parquet file"
   ],
   "metadata": {
    "collapsed": false
   },
   "id": "161ebb87214f5231"
  },
  {
   "cell_type": "code",
   "outputs": [
    {
     "name": "stderr",
     "output_type": "stream",
     "text": [
      "                                                                                \r"
     ]
    }
   ],
   "source": [
    "df.repartition(6).write.parquet('../../data/pq/fhv/2019/10')"
   ],
   "metadata": {
    "collapsed": false,
    "ExecuteTime": {
     "end_time": "2024-03-06T22:58:46.120726Z",
     "start_time": "2024-03-06T22:58:40.829693Z"
    }
   },
   "id": "480dc9ff12400dc9",
   "execution_count": 7
  },
  {
   "cell_type": "markdown",
   "source": [
    "## Question 3: How many taxi trips were there on the 15th of October?"
   ],
   "metadata": {
    "collapsed": false
   },
   "id": "88e897e7e549afac"
  },
  {
   "cell_type": "code",
   "outputs": [],
   "source": [
    "df = spark.read.parquet('../../data/pq/fhv/2019/10')"
   ],
   "metadata": {
    "collapsed": false,
    "ExecuteTime": {
     "end_time": "2024-03-06T23:06:13.611190Z",
     "start_time": "2024-03-06T23:06:12.216411Z"
    }
   },
   "id": "28ad1f7ddab1480e",
   "execution_count": 6
  },
  {
   "cell_type": "code",
   "outputs": [
    {
     "data": {
      "text/plain": "62610"
     },
     "execution_count": 8,
     "metadata": {},
     "output_type": "execute_result"
    }
   ],
   "source": [
    "df.filter(df['pickup_datetime'].like('2019-10-15%')).count()"
   ],
   "metadata": {
    "collapsed": false,
    "ExecuteTime": {
     "end_time": "2024-03-06T23:06:49.361863Z",
     "start_time": "2024-03-06T23:06:49.175650Z"
    }
   },
   "id": "711a921897c4d5bd",
   "execution_count": 8
  },
  {
   "cell_type": "markdown",
   "source": [
    "## Question 4: What is the length of the longest trip in the dataset in hours?"
   ],
   "metadata": {
    "collapsed": false
   },
   "id": "8c60605ee5781507"
  },
  {
   "cell_type": "code",
   "outputs": [],
   "source": [
    "df = spark.read.parquet('../../data/pq/fhv/2019/10')"
   ],
   "metadata": {
    "collapsed": false,
    "ExecuteTime": {
     "end_time": "2024-03-06T23:19:18.650205Z",
     "start_time": "2024-03-06T23:19:18.594634Z"
    }
   },
   "id": "b1c0a3bc9a5aa934",
   "execution_count": 33
  },
  {
   "cell_type": "code",
   "outputs": [],
   "source": [
    "# Convert the pickup and dropoff datetime to datetime\n",
    "df = df.withColumn('pickup_datetime', df['pickup_datetime'].cast('timestamp'))\n",
    "df = df.withColumn('dropoff_datetime', df['dropoff_datetime'].cast('timestamp'))"
   ],
   "metadata": {
    "collapsed": false,
    "ExecuteTime": {
     "end_time": "2024-03-06T23:19:20.823310Z",
     "start_time": "2024-03-06T23:19:20.811100Z"
    }
   },
   "id": "ab0d802e92014ef",
   "execution_count": 34
  },
  {
   "cell_type": "code",
   "outputs": [],
   "source": [
    "df = df.withColumn('trip_duration', df['dropoff_datetime'].cast('long') - df['pickup_datetime'].cast('long'))"
   ],
   "metadata": {
    "collapsed": false,
    "ExecuteTime": {
     "end_time": "2024-03-06T23:19:22.458946Z",
     "start_time": "2024-03-06T23:19:22.451430Z"
    }
   },
   "id": "47058aef5beaad1b",
   "execution_count": 35
  },
  {
   "cell_type": "code",
   "outputs": [
    {
     "name": "stdout",
     "output_type": "stream",
     "text": [
      "631152.5\n"
     ]
    }
   ],
   "source": [
    "# Convert the trip duration to hours\n",
    "max_trip_seconds = df.agg({'trip_duration': 'max'})\n",
    "max_trip_hours = max_trip_seconds.collect()[0][0] / 3600\n",
    "print(max_trip_hours)"
   ],
   "metadata": {
    "collapsed": false,
    "ExecuteTime": {
     "end_time": "2024-03-06T23:19:27.627839Z",
     "start_time": "2024-03-06T23:19:27.413738Z"
    }
   },
   "id": "a45e1c7b1c41d3d0",
   "execution_count": 36
  },
  {
   "cell_type": "code",
   "outputs": [
    {
     "name": "stdout",
     "output_type": "stream",
     "text": [
      "+--------------------+-------------------+-------------------+------------+------------+-------+----------------------+-------------+\n",
      "|dispatching_base_num|    pickup_datetime|   dropoff_datetime|PUlocationID|DOlocationID|SR_Flag|Affiliated_base_number|trip_duration|\n",
      "+--------------------+-------------------+-------------------+------------+------------+-------+----------------------+-------------+\n",
      "|              B02832|2019-10-11 18:00:00|2091-10-11 18:30:00|         264|         264|   NULL|                B02832|   2272149000|\n",
      "|              B02832|2019-10-28 09:00:00|2091-10-28 09:30:00|         264|         264|   NULL|                B02832|   2272149000|\n",
      "+--------------------+-------------------+-------------------+------------+------------+-------+----------------------+-------------+\n"
     ]
    }
   ],
   "source": [
    "# Get the trip with the longest duration\n",
    "df.filter(df['trip_duration'] == max_trip_seconds.collect()[0][0]).show()"
   ],
   "metadata": {
    "collapsed": false,
    "ExecuteTime": {
     "end_time": "2024-03-06T23:19:29.556415Z",
     "start_time": "2024-03-06T23:19:29.201780Z"
    }
   },
   "id": "2b65190add6c68ba",
   "execution_count": 37
  },
  {
   "cell_type": "markdown",
   "source": [
    "## Question 5: Least frequent pickup location zone\n",
    "\n",
    "Using the zone lookup data and the FHV October 2019 data, what is the name of the LEAST frequent pickup location Zone?"
   ],
   "metadata": {
    "collapsed": false
   },
   "id": "10eadaa26245d9c6"
  },
  {
   "cell_type": "code",
   "outputs": [],
   "source": [
    "zones_df = spark.read \\\n",
    "    .parquet('../../installation_test/zones')"
   ],
   "metadata": {
    "collapsed": false,
    "ExecuteTime": {
     "end_time": "2024-03-06T23:26:24.679423Z",
     "start_time": "2024-03-06T23:26:24.610217Z"
    }
   },
   "id": "dd27ee0fb732c50",
   "execution_count": 38
  },
  {
   "cell_type": "code",
   "outputs": [
    {
     "name": "stdout",
     "output_type": "stream",
     "text": [
      "+----------+-------------+--------------------+------------+\n",
      "|LocationID|      Borough|                Zone|service_zone|\n",
      "+----------+-------------+--------------------+------------+\n",
      "|         1|          EWR|      Newark Airport|         EWR|\n",
      "|         2|       Queens|         Jamaica Bay|   Boro Zone|\n",
      "|         3|        Bronx|Allerton/Pelham G...|   Boro Zone|\n",
      "|         4|    Manhattan|       Alphabet City| Yellow Zone|\n",
      "|         5|Staten Island|       Arden Heights|   Boro Zone|\n",
      "+----------+-------------+--------------------+------------+\n"
     ]
    }
   ],
   "source": [
    "zones_df.show(5)"
   ],
   "metadata": {
    "collapsed": false,
    "ExecuteTime": {
     "end_time": "2024-03-06T23:26:29.388364Z",
     "start_time": "2024-03-06T23:26:29.315505Z"
    }
   },
   "id": "53abf9aaef2b54d4",
   "execution_count": 39
  },
  {
   "cell_type": "code",
   "outputs": [],
   "source": [
    "df = spark.read.parquet('../../data/pq/fhv/2019/10')"
   ],
   "metadata": {
    "collapsed": false,
    "ExecuteTime": {
     "end_time": "2024-03-06T23:26:46.474532Z",
     "start_time": "2024-03-06T23:26:46.423812Z"
    }
   },
   "id": "a9fdb12dd204002f",
   "execution_count": 40
  },
  {
   "cell_type": "code",
   "outputs": [
    {
     "name": "stderr",
     "output_type": "stream",
     "text": [
      "[Stage 50:======================================>                   (6 + 3) / 9]\r"
     ]
    },
    {
     "name": "stdout",
     "output_type": "stream",
     "text": [
      "+------------+-----+\n",
      "|PULocationID|count|\n",
      "+------------+-----+\n",
      "|           2|    1|\n",
      "|         105|    2|\n",
      "|         111|    5|\n",
      "|          30|    8|\n",
      "|         120|   14|\n",
      "+------------+-----+\n"
     ]
    },
    {
     "name": "stderr",
     "output_type": "stream",
     "text": [
      "                                                                                \r"
     ]
    }
   ],
   "source": [
    "df.groupBy('PULocationID').count().orderBy('count').show(5)"
   ],
   "metadata": {
    "collapsed": false,
    "ExecuteTime": {
     "end_time": "2024-03-06T23:27:03.672759Z",
     "start_time": "2024-03-06T23:27:00.980674Z"
    }
   },
   "id": "8b798887fc206bb8",
   "execution_count": 41
  },
  {
   "cell_type": "code",
   "outputs": [
    {
     "name": "stderr",
     "output_type": "stream",
     "text": [
      "[Stage 54:=========================>                                (4 + 5) / 9]\r"
     ]
    },
    {
     "name": "stdout",
     "output_type": "stream",
     "text": [
      "+--------------------+-----+\n",
      "|                Zone|count|\n",
      "+--------------------+-----+\n",
      "|         Jamaica Bay|    1|\n",
      "|Governor's Island...|    2|\n",
      "| Green-Wood Cemetery|    5|\n",
      "|       Broad Channel|    8|\n",
      "|     Highbridge Park|   14|\n",
      "+--------------------+-----+\n"
     ]
    },
    {
     "name": "stderr",
     "output_type": "stream",
     "text": [
      "                                                                                \r"
     ]
    }
   ],
   "source": [
    "df.join(zones_df, df['PULocationID'] == zones_df['LocationID']).groupBy('Zone').count().orderBy('count').show(5)"
   ],
   "metadata": {
    "collapsed": false,
    "ExecuteTime": {
     "end_time": "2024-03-06T23:27:28.393445Z",
     "start_time": "2024-03-06T23:27:25.583509Z"
    }
   },
   "id": "7d21a3263c749e68",
   "execution_count": 42
  }
 ],
 "metadata": {
  "kernelspec": {
   "display_name": "Python 3",
   "language": "python",
   "name": "python3"
  },
  "language_info": {
   "codemirror_mode": {
    "name": "ipython",
    "version": 2
   },
   "file_extension": ".py",
   "mimetype": "text/x-python",
   "name": "python",
   "nbconvert_exporter": "python",
   "pygments_lexer": "ipython2",
   "version": "2.7.6"
  }
 },
 "nbformat": 4,
 "nbformat_minor": 5
}
